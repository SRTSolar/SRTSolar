{
 "cells": [
  {
   "cell_type": "markdown",
   "metadata": {},
   "source": [
    "# Interactive calculation of the exergy efficiency of a solar power plant  \n",
    "\n"
   ]
  },
  {
   "cell_type": "code",
   "execution_count": 140,
   "metadata": {},
   "outputs": [],
   "source": [
    "from ipywidgets import interact, interactive, IntSlider, Layout, interact_manual\n",
    "import ipywidgets as widgets\n",
    "from IPython.display import display\n",
    "\n",
    "import numpy as np\n",
    "import matplotlib.pyplot as plt\n",
    "#%matplotlib inline\n",
    "\n",
    "import pandas as pd"
   ]
  },
  {
   "cell_type": "markdown",
   "metadata": {},
   "source": [
    "# General formula"
   ]
  },
  {
   "cell_type": "markdown",
   "metadata": {},
   "source": [
    "\\begin{equation*}\n",
    "\\eta_{ex} = \\eta_{th} . \\eta_{Carnot} \n",
    "\\end{equation*}\n",
    "\n",
    "A. Steinfeld, R. Palumbo, Solar thermochemical process technology, Encyclopedia of physical science & technologie, R. A. Meyers Ed., Academic Press, 15, 237-256, 2001."
   ]
  },
  {
   "cell_type": "code",
   "execution_count": 141,
   "metadata": {},
   "outputs": [],
   "source": [
    "N_samples = 50\n",
    "x1= np.linspace(300,4000,N_samples*5)\n",
    "Alpha=1 #absorption\n",
    "Epsilon=1 #emissivity\n",
    "I=1000 #W/m²\n",
    "C=1000 #concentration factor\n",
    "T0=298 #K"
   ]
  },
  {
   "cell_type": "code",
   "execution_count": null,
   "metadata": {},
   "outputs": [],
   "source": [
    "   "
   ]
  },
  {
   "cell_type": "code",
   "execution_count": 142,
   "metadata": {},
   "outputs": [],
   "source": [
    "def func_gen(N_samples,C,Alpha, Epsilon):\n",
    "    x1= np.linspace(300,4000,N_samples*5)\n",
    "    \n",
    "    #plot of ideal black body thermal efficiency \n",
    "    y1=(Alpha-(Epsilon*5.67*10**(-8)*(x1**4-T0**4))/(I*C))\n",
    "    \n",
    "    #plot of CARNOT efficiency\n",
    "    y2=(1-T0/x1)\n",
    "    \n",
    "    #plot of ideal black body exergy efficiency \n",
    "    y3=(Alpha-(Epsilon*5.67*10**(-8)*(x1**4-T0**4))/(I*C))*(1-T0/x1)\n",
    "      \n",
    "    \n",
    "    ##REFERENCE  \n",
    "    #plot of ideal black body exergy efficiency (C=1000)\n",
    "    y4=(1-(1*5.67*10**(-8)*(x1**4-T0**4))/(I*1000))*(1-T0/x1)\n",
    "    \n",
    "        \n",
    "    plt.figure(figsize=(8,5))\n",
    "    plt.plot(x1,y1,label=\"Black body thermal efficiency\",c='k',lw=2)\n",
    "    plt.plot(x1,y2,label=\"CARNOT efficiency\",c='g',lw=2)\n",
    "    plt.plot(x1,y3,label=\"Black body exergy efficiency\",c='m',lw=2)\n",
    "    plt.plot(x1,y4,label=\"Reference case, black body, C=1000\",c='r',lw=2)\n",
    "    plt.grid(True)\n",
    "    plt.legend()\n",
    "    plt.xlabel('Temperature (K)')\n",
    "    plt.ylabel('Efficiency')\n",
    "    plt.ylim(0, 1)\n",
    "    plt.show()\n",
    "    return "
   ]
  },
  {
   "cell_type": "code",
   "execution_count": null,
   "metadata": {},
   "outputs": [],
   "source": []
  },
  {
   "cell_type": "code",
   "execution_count": 143,
   "metadata": {},
   "outputs": [
    {
     "data": {
      "application/vnd.jupyter.widget-view+json": {
       "model_id": "4f7e65000ada476f9c08fbab6f13b67a",
       "version_major": 2,
       "version_minor": 0
      },
      "text/plain": [
       "interactive(children=(Dropdown(description='N_samples', options={'Low (50 samples)': 50, 'High (200 samples)':…"
      ]
     },
     "metadata": {},
     "output_type": "display_data"
    }
   ],
   "source": [
    "p=interactive(func_gen,N_samples={'Low (50 samples)':50,'High (200 samples)':200},C=(0,10000,100),Alpha=(0.1,1,0.1), Epsilon=(0.1,1,0.1))\n",
    "display(p)\n"
   ]
  },
  {
   "cell_type": "code",
   "execution_count": 144,
   "metadata": {},
   "outputs": [],
   "source": [
    "Alpha=1\n",
    "Epsilon=1\n",
    "I=1000\n",
    "x4=1000\n",
    "C=1000\n",
    "y4=(Alpha-(Epsilon*5.67*10**(-8)*(x4**4-T0**4))/(I*C))*(1-T0/x4)\n",
    "\n",
    "\n"
   ]
  },
  {
   "cell_type": "code",
   "execution_count": 145,
   "metadata": {},
   "outputs": [
    {
     "name": "stdout",
     "output_type": "stream",
     "text": [
      "0.6625104955994682\n"
     ]
    }
   ],
   "source": [
    "print(y4)\n"
   ]
  },
  {
   "cell_type": "code",
   "execution_count": null,
   "metadata": {},
   "outputs": [],
   "source": []
  },
  {
   "cell_type": "code",
   "execution_count": null,
   "metadata": {},
   "outputs": [],
   "source": []
  },
  {
   "cell_type": "code",
   "execution_count": null,
   "metadata": {},
   "outputs": [],
   "source": []
  },
  {
   "cell_type": "code",
   "execution_count": null,
   "metadata": {},
   "outputs": [],
   "source": [
    "\n"
   ]
  },
  {
   "cell_type": "code",
   "execution_count": null,
   "metadata": {},
   "outputs": [],
   "source": []
  },
  {
   "cell_type": "code",
   "execution_count": null,
   "metadata": {},
   "outputs": [],
   "source": []
  },
  {
   "cell_type": "code",
   "execution_count": null,
   "metadata": {},
   "outputs": [],
   "source": []
  },
  {
   "cell_type": "code",
   "execution_count": null,
   "metadata": {},
   "outputs": [],
   "source": []
  },
  {
   "cell_type": "code",
   "execution_count": null,
   "metadata": {},
   "outputs": [],
   "source": []
  },
  {
   "cell_type": "code",
   "execution_count": null,
   "metadata": {},
   "outputs": [],
   "source": []
  }
 ],
 "metadata": {
  "kernelspec": {
   "display_name": "Python 3",
   "language": "python",
   "name": "python3"
  },
  "language_info": {
   "codemirror_mode": {
    "name": "ipython",
    "version": 3
   },
   "file_extension": ".py",
   "mimetype": "text/x-python",
   "name": "python",
   "nbconvert_exporter": "python",
   "pygments_lexer": "ipython3",
   "version": "3.8.5"
  }
 },
 "nbformat": 4,
 "nbformat_minor": 4
}
